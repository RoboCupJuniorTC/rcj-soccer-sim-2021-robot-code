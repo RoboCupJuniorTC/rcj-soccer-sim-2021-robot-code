{
 "cells": [
  {
   "cell_type": "code",
   "execution_count": 1,
   "id": "covered-message",
   "metadata": {},
   "outputs": [],
   "source": [
    "import os\n",
    "import filecmp"
   ]
  },
  {
   "cell_type": "code",
   "execution_count": 2,
   "id": "bulgarian-focus",
   "metadata": {},
   "outputs": [],
   "source": [
    "team_code = [dir for dir in os.listdir(\".\") if dir.startswith('0')] + ['999']"
   ]
  },
  {
   "cell_type": "code",
   "execution_count": 3,
   "id": "formal-lottery",
   "metadata": {},
   "outputs": [],
   "source": [
    "team_code.sort()"
   ]
  },
  {
   "cell_type": "code",
   "execution_count": 4,
   "id": "exciting-patrol",
   "metadata": {},
   "outputs": [
    {
     "data": {
      "text/plain": [
       "0"
      ]
     },
     "execution_count": 4,
     "metadata": {},
     "output_type": "execute_result"
    }
   ],
   "source": [
    "os.system('mkdir 011/robot2/')\n",
    "os.system('touch 011/robot2/robot2.py')\n",
    "os.system('git add 011/robot2/robot2.py')\n",
    "os.system('git mv 051/rcj_soccer_KAREN/rcj_soccer_player_KAREN.py 051/rcj_soccer_KAREN/rcj_soccer_player_KAREN1.py')\n",
    "os.system('git mv 051/rcj_soccer_KAREN/ 051/rcj_soccer_KAREN1')\n",
    "os.system('git mv 051/rcj_soccer_player_LUISA/rcj_soccer_player_LUISA.py 051/rcj_soccer_player_LUISA/rcj_soccer_player_LUISA2.py')\n",
    "os.system('git mv 051/rcj_soccer_player_LUISA/ 051/rcj_soccer_player_LUISA2')\n",
    "os.system('git mv 051/rcj_soccer_player_OREO/rcj_soccer_player_OREO.py 051/rcj_soccer_player_OREO/rcj_soccer_player_OREO3.py')\n",
    "os.system('git mv 051/rcj_soccer_player_OREO/ 051/rcj_soccer_player_OREO3')"
   ]
  },
  {
   "cell_type": "code",
   "execution_count": 172,
   "id": "civic-synthesis",
   "metadata": {},
   "outputs": [],
   "source": [
    "def visibly_exec(cmd):\n",
    "    print(cmd)\n",
    "    os.system(cmd)\n",
    "\n",
    "def any_in(list, line):\n",
    "    found = False\n",
    "    for l in list:\n",
    "        if l in line:\n",
    "            found = True\n",
    "    return found\n",
    "\n",
    "def validate_team(team_dir, attempt_fix=False):\n",
    "    # Warn about missing logo.png-files\n",
    "    if not os.path.isfile(team_dir + os.sep + 'logo.png'):\n",
    "        print(str(team_dir) + ' has no logo.png')\n",
    "    # Create if they didn't yet exist separate folders for team's included code\n",
    "    team_libs_path = team_dir + os.sep + 'team_libraries'\n",
    "    if not os.path.isdir(team_dir + os.sep + 'team_libraries'):\n",
    "        print(team_libs_path + ' does not exist')\n",
    "        os.mkdir(team_libs_path)\n",
    "        visibly_exec('touch ' + team_libs_path + os.sep + '__init__.py')\n",
    "        visibly_exec('git add ' + team_libs_path + os.sep + '__init__.py')\n",
    "        for i in range(1,4):\n",
    "            os.mkdir(team_libs_path + os.sep + 'robot' + str(i))\n",
    "            visibly_exec('touch ' + team_libs_path + os.sep + 'robot' + str(i) + os.sep + '__init__.py')\n",
    "            visibly_exec('git add ' + team_libs_path + os.sep + 'robot' + str(i) + os.sep + '__init__.py')\n",
    "    # adapt actual bot code\n",
    "    original_bot_file_names = []\n",
    "    for bot_no in range(1,4):\n",
    "        bot_dir_path = team_dir + os.sep + 'robot' + str(bot_no)\n",
    "        bot_file_path = bot_dir_path + os.sep + 'robot' + str(bot_no) + '.py'\n",
    "        # if bot is not already completely in the correct place, move it\n",
    "        if not os.path.isfile(bot_file_path):\n",
    "            print(bot_file_path + ' does not exist in the correct way')\n",
    "            if attempt_fix:\n",
    "                presumed_bot_n_dir = [team_dir + os.sep + bot_n_dir for bot_n_dir in os.listdir(team_dir) if bot_n_dir[-1] == str(bot_no)][0]\n",
    "#                 print(presumed_bot_n_dir)\n",
    "                # create robot1, robot2, robot3 dirs if they don't exist\n",
    "                if not presumed_bot_n_dir.endswith('robot' + str(bot_no)):\n",
    "                    print('No proper directory for ' + str(presumed_bot_n_dir) + ' moving')\n",
    "                    visibly_exec('git mv ' + presumed_bot_n_dir + ' ' + team_dir + os.sep + 'robot' + str(bot_no))\n",
    "                # if robot directories are correct, correct file naming\n",
    "                if not os.path.isfile(bot_file_path):\n",
    "                    print('Proper directory but no proper filename for ' + str(bot_file_path))\n",
    "                    proper_bot_n_dir = team_dir + os.sep + 'robot' + str(bot_no)\n",
    "                    presumed_bot_n_filename = [presumed_file for presumed_file in os.listdir(proper_bot_n_dir) if presumed_file[-4:-3] == str(bot_no)][0]\n",
    "                    original_bot_file_names.append(presumed_bot_n_filename)\n",
    "                    presumed_bot_n_path = proper_bot_n_dir + os.sep + presumed_bot_n_filename\n",
    "                    proper_bot_n_path = team_dir + os.sep + 'robot' + str(bot_no) + os.sep + 'robot' + str(bot_no) + '.py'\n",
    "                    visibly_exec('git mv ' + presumed_bot_n_path + ' ' + proper_bot_n_path)\n",
    "        # move local includes to team_libraries and adapt import statements accordingly\n",
    "        if not os.listdir(bot_dir_path) == ['robot' + str(bot_no) + '.py']:\n",
    "            robot_n_py_path = bot_dir_path + os.sep + 'robot' + str(bot_no) + '.py'\n",
    "            robot_n_py_fd = open(robot_n_py_path, 'r')\n",
    "            robot_n_py = robot_n_py_fd.readlines()\n",
    "            robot_n_py_fd.close()\n",
    "            robot_n_py_fd = robot_n_py_fd = open(bot_dir_path + os.sep + 'robot' + str(bot_no) + '.py', 'w')\n",
    "            robot_n_py_fd.write(\"PACKAGE_PARENT = '..'\\n\")\n",
    "            bot_extraneous_files = [bot_file for bot_file in os.listdir(bot_dir_path) if bot_file != 'robot' + str(bot_no) + '.py']\n",
    "            bot_local_modulenames = [filename[:-3] for filename in bot_extraneous_files]\n",
    "            original_bot_modulenames = [filename[:-3] for filename in original_bot_file_names]\n",
    "            import_modulenames_to_move = bot_local_modulenames + original_bot_modulenames\n",
    "            print(import_modulenames_to_move)\n",
    "            for bot_local_module in bot_local_modulenames:\n",
    "                # move module\n",
    "                local_filename_fullpath = team_dir + os.sep + 'robot' + str(bot_no) + os.sep + bot_local_module + '.py'\n",
    "                visibly_exec('git mv ' + local_filename_fullpath + ' ' + team_dir + os.sep + 'team_libraries/robot' + str(bot_no) + os.sep)\n",
    "                # change references\n",
    "                for line in robot_n_py:\n",
    "                    if 'import' in line and not line.strip().startswith('#') and any_in(bot_local_modulenames, line):\n",
    "                        if 'from' in line:\n",
    "                            import_name = line.split(' ')[1]\n",
    "                            robot_n_py_fd.write('from ..team_' + team_dir + '_libraries.robot' + str(bot_no) + '.' + import_name + ' ' + ' '.join(line.split(' ')[2:]) + '\\n')\n",
    "                        else:\n",
    "                            import_names = line.replace('import ','').split(',')\n",
    "                            import_names = [import_name.strip() for import_name in import_names]\n",
    "                            robot_n_py_fd.write('from ..team_' + team_dir + '_libraries.robot' + str(bot_no) + ' import ' + ','.join(import_names) + '\\n')\n",
    "                    else:\n",
    "                        if 'import' in line:\n",
    "                            print(line)\n",
    "                        robot_n_py_fd.write(line)\n",
    "            robot_n_py_fd.close()\n",
    "            visibly_exec('git add ' + robot_n_py_path)\n",
    "#             visibly_exec('cp ' + bot_file_path + ' ' + team_dir + os.sep + 'team_libraries/robot' + str(bot_no) + os.sep)\n",
    "#             visibly_exec('git add ' + team_dir + os.sep + 'team_libraries/robot' + str(bot_no) + os.sep)\n",
    "\n",
    "# OLD CODE\n",
    "#             print(str(os.listdir(bot_dir_path)) + ' are too many things')\n",
    "#             for bot_file in bot_extraneous_file:\n",
    "#                 source_file_path = bot_dir_path + os.sep + bot_file\n",
    "#                 target_file_path = team_dir + os.sep + 'team_libraries' + os.sep + 'robot' + str(bot_no) + os.sep + bot_file\n",
    "#                 if not os.path.isfile(target_file_path):\n",
    "#                     1 == 1\n",
    "#                     visibly_exec('git mv ' + source_file_path + ' ' + target_file_path)\n",
    "#                 else:\n",
    "#                     print(target_file_path + ' already exists')\n",
    "#                     if filecmp.cmp(source_file_path, target_file_path):\n",
    "#                         print('Files are identical')\n",
    "#                         print(\"Files are identical. Deleting extraneous copy.\")\n",
    "#                         visibly_exec('git rm -f ' + source_file_path)\n",
    "#                     else:\n",
    "#                         print(\"Files are different: diff \" + source_file_path + ' ' + target_file_path)"
   ]
  },
  {
   "cell_type": "code",
   "execution_count": 254,
   "id": "backed-environment",
   "metadata": {},
   "outputs": [],
   "source": [
    "def visibly_exec(cmd):\n",
    "    print(cmd)\n",
    "    os.system(cmd)\n",
    "\n",
    "def any_in(list, line):\n",
    "    found = False\n",
    "    for l in list:\n",
    "        if l in line:\n",
    "            found = True\n",
    "    return found\n",
    "\n",
    "def validate_team(team_dir, attempt_fix=False):\n",
    "    # Warn about missing logo.png-files\n",
    "    if not os.path.isfile(team_dir + os.sep + 'logo.png'):\n",
    "        print(str(team_dir) + ' has no logo.png')\n",
    "    # Create if they didn't yet exist separate folders for team's included code\n",
    "    team_libs_path = team_dir + os.sep + 'team_libraries'\n",
    "    if not os.path.isdir(team_dir + os.sep + 'team_libraries'):\n",
    "        print(team_libs_path + ' does not exist')\n",
    "        os.mkdir(team_libs_path)\n",
    "        visibly_exec('touch ' + team_libs_path + os.sep + '__init__.py')\n",
    "        visibly_exec('git add ' + team_libs_path + os.sep + '__init__.py')\n",
    "        for i in range(1,4):\n",
    "            os.mkdir(team_libs_path + os.sep + 'robot' + str(i))\n",
    "            visibly_exec('touch ' + team_libs_path + os.sep + 'robot' + str(i) + os.sep + '__init__.py')\n",
    "            visibly_exec('git add ' + team_libs_path + os.sep + 'robot' + str(i) + os.sep + '__init__.py')\n",
    "    # adapt actual bot code\n",
    "    original_bot_file_names = []\n",
    "    for bot_no in range(1,4):\n",
    "        bot_dir_path = team_dir + os.sep + 'robot' + str(bot_no)\n",
    "        bot_file_path = bot_dir_path + os.sep + 'robot' + str(bot_no) + '.py'\n",
    "        # if bot is not already completely in the correct place, move it\n",
    "#         if not os.path.isfile(bot_file_path):\n",
    "        if True: #always execute, relocation is also necessary on bots with correct filenames\n",
    "            print(bot_file_path + ' does not exist in the correct way')\n",
    "            if attempt_fix:\n",
    "                presumed_bot_n_dir = [team_dir + os.sep + bot_n_dir for bot_n_dir in os.listdir(team_dir) if bot_n_dir[-1] == str(bot_no)][0]\n",
    "#                 print(presumed_bot_n_dir)\n",
    "                # create robot1, robot2, robot3 dirs if they don't exist\n",
    "                if not presumed_bot_n_dir.endswith('robot' + str(bot_no)):\n",
    "                    print('No proper directory for ' + str(presumed_bot_n_dir) + ' moving')\n",
    "                    visibly_exec('git mv ' + presumed_bot_n_dir + ' ' + team_dir + os.sep + 'robot' + str(bot_no))\n",
    "                # if robot directories are correct, correct file naming\n",
    "                if not os.path.isfile(bot_file_path):\n",
    "                    print('Proper directory but no proper filename for ' + str(bot_file_path))\n",
    "                    proper_bot_n_dir = team_dir + os.sep + 'robot' + str(bot_no)\n",
    "                    presumed_bot_n_filename = [presumed_file for presumed_file in os.listdir(proper_bot_n_dir) if presumed_file[-4:-3] == str(bot_no)][0]\n",
    "                    original_bot_file_names.append(presumed_bot_n_filename)\n",
    "                    presumed_bot_n_path = proper_bot_n_dir + os.sep + presumed_bot_n_filename\n",
    "                    proper_bot_n_path = team_dir + os.sep + 'robot' + str(bot_no) + os.sep + 'robot' + str(bot_no) + '.py'\n",
    "                    visibly_exec('git mv ' + presumed_bot_n_path + ' ' + proper_bot_n_path)\n",
    "        # move local includes to team_libraries and adapt import statements accordingly\n",
    "        if not os.listdir(bot_dir_path) == ['robot' + str(bot_no) + '.py']:\n",
    "            robot_n_py_path = bot_dir_path + os.sep + 'robot' + str(bot_no) + '.py'\n",
    "            robot_n_py_fd = open(robot_n_py_path, 'r')\n",
    "            robot_n_py = robot_n_py_fd.readlines()\n",
    "            robot_n_py_fd.close()\n",
    "            robot_n_py_fd = robot_n_py_fd = open(bot_dir_path + os.sep + 'robot' + str(bot_no) + '.py', 'w')\n",
    "            robot_n_py_fd.write(\"import sys\\nsys.path.append('/app/controllers/')\\nsys.path.append('.')\")\n",
    "            bot_extraneous_files = [bot_file for bot_file in os.listdir(bot_dir_path) if bot_file != 'robot' + str(bot_no) + '.py']\n",
    "            bot_local_modulenames = [filename[:-3] for filename in bot_extraneous_files]\n",
    "            original_bot_modulenames = [filename[:-3] for filename in original_bot_file_names]\n",
    "            import_modulenames_to_move = bot_local_modulenames + original_bot_modulenames\n",
    "            print(import_modulenames_to_move)\n",
    "            for bot_local_module in bot_local_modulenames:\n",
    "                # move module\n",
    "                local_filename_fullpath = team_dir + os.sep + 'robot' + str(bot_no) + os.sep + bot_local_module + '.py'\n",
    "                visibly_exec('git mv ' + local_filename_fullpath + ' ' + team_dir + os.sep + 'team_libraries/robot' + str(bot_no) + os.sep)\n",
    "                # change references\n",
    "                for line in robot_n_py:\n",
    "                    if 'import' in line and not line.strip().startswith('#') and any_in(bot_local_modulenames, line):\n",
    "                        if 'from' in line:\n",
    "                            import_name = line.split(' ')[1]\n",
    "                            robot_n_py_fd.write('from team_' + team_dir + '_libraries.robot' + str(bot_no) + '.' + import_name + ' ' + ' '.join(line.split(' ')[2:]) + '\\n')\n",
    "                        else:\n",
    "                            import_names = line.replace('import ','').split(',')\n",
    "                            import_names = [import_name.strip() for import_name in import_names]\n",
    "                            robot_n_py_fd.write('from team_' + team_dir + '_libraries.robot' + str(bot_no) + ' import ' + ','.join(import_names) + '\\n')\n",
    "                    else:\n",
    "#                         if 'import' in line:\n",
    "#                             print(line)\n",
    "                        robot_n_py_fd.write(line)\n",
    "            robot_n_py_fd.close()\n",
    "            robot_n_py_fd = open(robot_n_py_path, 'r')\n",
    "            robot_n_py = robot_n_py_fd.readlines()\n",
    "            robot_n_py_fd.close()\n",
    "            robot_n_py_fd = robot_n_py_fd = open(bot_dir_path + os.sep + 'robot' + str(bot_no) + '.py', 'w')\n",
    "            # probably a very bad idea, should likely be integrated in loop up there\n",
    "            for line in robot_n_py:\n",
    "                line_written = False\n",
    "                for original_bot_modulename in original_bot_modulenames:\n",
    "                    if 'from' in line:\n",
    "                        robot_n_py_fd.write(line.replace(original_bot_modulename, 'team_' + team_dir + '_libraries.robot' + str(bot_no)))\n",
    "                        line_written = True\n",
    "                        break\n",
    "                    else:\n",
    "                        robot_n_py_fd.write(line)\n",
    "                        print(\"No Idea: \" + line)\n",
    "                        line_written = True\n",
    "                        break\n",
    "                if not line_written:\n",
    "                    robot_n_py_fd.write(line)\n",
    "            robot_n_py_fd.close()\n",
    "            visibly_exec('git add ' + robot_n_py_path)\n",
    "        # convert imports in imports to relative imports where appropriate\n",
    "        bot_n_include_dir = team_dir + os.sep + 'team_libraries/robot' + str(bot_no) + os.sep\n",
    "        bot_n_include_files = os.listdir(bot_n_include_dir)\n",
    "        for bot_n_include_file in bot_n_include_files:\n",
    "            bot_n_include_file_fd = open(bot_n_include_dir + os.sep + bot_n_include_file, 'r')\n",
    "            bot_n_include_file_lines = bot_n_include_file_fd.readlines()\n",
    "            bot_n_include_file_fd.close()\n",
    "            bot_n_include_file_fd = open(bot_n_include_dir + os.sep + bot_n_include_file, 'w')\n",
    "            local_module_names = [filename[:-3] for filename in bot_n_include_files]\n",
    "            for line in bot_n_include_file_lines:\n",
    "                if 'import' in line:\n",
    "                    if any_in(local_module_names, line):\n",
    "                        if 'from' in line:\n",
    "                            line_parts = line.split('from')\n",
    "                            bot_n_include_file_fd.write(line_parts[0] + 'from .' + line_parts[1].strip() + '\\n')\n",
    "                        else:\n",
    "                            line_parts = line.split('import')\n",
    "                            module_list = [s.strip() for s in line_parts[1].split(',')]\n",
    "                            module_list_unmodified = [module_name for module_name in module_list if not any_in(local_module_names, module_name)]\n",
    "                            module_list_modified = [module_name for module_name in module_list if any_in(local_module_names, module_name)]\n",
    "                            if module_list_unmodified:\n",
    "                                bot_n_include_file_fd.write('import '.join([line_parts[0], ', '.join(module_list_unmodified)]) + '\\n')\n",
    "                            if module_list_modified:\n",
    "                                bot_n_include_file_fd.write(line_parts[0] + 'from . import ' + ','.join(module_list_modified) + '\\n')\n",
    "                    else:\n",
    "                        bot_n_include_file_fd.write(line)\n",
    "                else:\n",
    "                    bot_n_include_file_fd.write(line)\n",
    "            bot_n_include_file_fd.close()\n",
    "        # nice try, but no...\n",
    "#         for import_file in os.listdir(bot_n_include_dir):\n",
    "#             fd = open(bot_n_include_dir + os.sep + import_file, 'r')\n",
    "#             file_contents = fd.read()\n",
    "#             fd.close()\n",
    "#             fd = open(bot_n_include_dir + os.sep + import_file, 'w')\n",
    "#             fd.write('import sys\\nsys.path.append(\".\")\\n')\n",
    "#             fd.write(file_contents)\n",
    "#             fd.close()"
   ]
  },
  {
   "cell_type": "code",
   "execution_count": 257,
   "id": "sticky-voluntary",
   "metadata": {},
   "outputs": [
    {
     "name": "stdout",
     "output_type": "stream",
     "text": [
      "041/team_libraries does not exist\n",
      "touch 041/team_libraries/__init__.py\n",
      "git add 041/team_libraries/__init__.py\n",
      "touch 041/team_libraries/robot1/__init__.py\n",
      "git add 041/team_libraries/robot1/__init__.py\n",
      "touch 041/team_libraries/robot2/__init__.py\n",
      "git add 041/team_libraries/robot2/__init__.py\n",
      "touch 041/team_libraries/robot3/__init__.py\n",
      "git add 041/team_libraries/robot3/__init__.py\n",
      "041/robot1/robot1.py does not exist in the correct way\n",
      "['Goalie', 'SupportOptiPos', '.gitign', 'intercepts', 'utils', 'CoordinateRecalculator', 'MovementCalculator', 'rcj_soccer_robot', 'GoToFunc']\n",
      "git mv 041/robot1/Goalie.py 041/team_libraries/robot1/\n",
      "git mv 041/robot1/SupportOptiPos.py 041/team_libraries/robot1/\n",
      "git mv 041/robot1/.gitign.py 041/team_libraries/robot1/\n",
      "git mv 041/robot1/intercepts.py 041/team_libraries/robot1/\n",
      "git mv 041/robot1/utils.py 041/team_libraries/robot1/\n",
      "git mv 041/robot1/CoordinateRecalculator.py 041/team_libraries/robot1/\n",
      "git mv 041/robot1/MovementCalculator.py 041/team_libraries/robot1/\n",
      "git mv 041/robot1/rcj_soccer_robot.py 041/team_libraries/robot1/\n",
      "git mv 041/robot1/GoToFunc.py 041/team_libraries/robot1/\n",
      "git add 041/robot1/robot1.py\n",
      "041/robot2/robot2.py does not exist in the correct way\n",
      "041/robot3/robot3.py does not exist in the correct way\n"
     ]
    }
   ],
   "source": [
    "validate_team('041', True)\n",
    "# for team_dir in team_code:\n",
    "#     validate_team(team_dir, True)"
   ]
  },
  {
   "cell_type": "code",
   "execution_count": 29,
   "id": "proper-exception",
   "metadata": {},
   "outputs": [
    {
     "data": {
      "text/plain": [
       "['states.py',\n",
       " 'fsm.py',\n",
       " 'ipc.py',\n",
       " 'utils.py',\n",
       " 'rcj_soccer_robot.py',\n",
       " 'predictor.py',\n",
       " 'omicron_agent_1.py']"
      ]
     },
     "execution_count": 29,
     "metadata": {},
     "output_type": "execute_result"
    }
   ],
   "source": [
    "same_dir_py_files = os.listdir('001/omicron_agent_1')\n",
    "same_dir_py_files"
   ]
  },
  {
   "cell_type": "code",
   "execution_count": 14,
   "id": "former-swedish",
   "metadata": {},
   "outputs": [],
   "source": [
    "robot1_py_file = open('001/omicron_agent_1/omicron_agent_1.py', 'r')\n",
    "robot1_py = robot1_py_file.read()"
   ]
  },
  {
   "cell_type": "code",
   "execution_count": 16,
   "id": "periodic-stevens",
   "metadata": {},
   "outputs": [],
   "source": [
    "robot1_py_lines = robot1_py.split('\\n')"
   ]
  },
  {
   "cell_type": "code",
   "execution_count": 35,
   "id": "manufactured-airplane",
   "metadata": {},
   "outputs": [],
   "source": [
    "robot1_py_lines_imports = [line for line in robot1_py_lines if 'import' in line]"
   ]
  },
  {
   "cell_type": "code",
   "execution_count": 36,
   "id": "rotary-prize",
   "metadata": {},
   "outputs": [],
   "source": [
    "robot1_py_lines_imports_straight = [line for line in robot1_py_lines_imports if not 'from' in line]\n",
    "robot1_py_lines_imports_from = [line for line in robot1_py_lines_imports if 'from' in line]"
   ]
  },
  {
   "cell_type": "code",
   "execution_count": 42,
   "id": "lasting-restriction",
   "metadata": {},
   "outputs": [
    {
     "name": "stdout",
     "output_type": "stream",
     "text": [
      "import ..team_libraries.bot1_folder.fsm\n",
      "import ..team_libraries.bot1_folder.states\n",
      "import ..team_libraries.bot1_folder.utils\n",
      "import ..team_libraries.bot1_folder.ipc\n"
     ]
    }
   ],
   "source": [
    "for line in robot1_py_lines:\n",
    "    if 'import' in line:\n",
    "        imported_modules = []\n",
    "        if not 'from' in line:\n",
    "            imported_modules = line.replace('import ', '').split(',')\n",
    "            for imported_module in imported_modules:\n",
    "                if imported_module + '.py' in same_dir_py_files:\n",
    "                    line = line.replace(imported_module, '..team_libraries.bot1_folder.' + imported_module)\n",
    "                    print(line)"
   ]
  },
  {
   "cell_type": "code",
   "execution_count": 76,
   "id": "compatible-municipality",
   "metadata": {},
   "outputs": [
    {
     "data": {
      "text/plain": [
       "['# This file is part of Team Omicron in RoboCup Jr 2021 Soccer Simulation.\\n',\n",
       " '# Copyright (c) 2021 Ethan Lo & Matt Young. All rights reserved.\\n',\n",
       " '#\\n',\n",
       " '# This Source Code Form is subject to the terms of the Mozilla Public\\n',\n",
       " '# License, v. 2.0. If a copy of the MPL was not distributed with this\\n',\n",
       " '# file, You can obtain one at http://mozilla.org/MPL/2.0/.\\n',\n",
       " '# \\n',\n",
       " '# Main file for Omicron agent\\n',\n",
       " '# Based on the rcj_soccer_player controller that ships with the simulator.\\n',\n",
       " '\\n',\n",
       " 'import math\\n',\n",
       " 'from rcj_soccer_robot import RCJSoccerRobot, TIME_STEP\\n',\n",
       " 'import fsm\\n',\n",
       " 'import states\\n',\n",
       " 'import utils\\n',\n",
       " 'from fsm import RobotState, StateMachine\\n',\n",
       " 'import ipc\\n',\n",
       " '\\n',\n",
       " 'class OmicronAgent(RCJSoccerRobot):\\n',\n",
       " '    def setup(self):\\n',\n",
       " '        # TODO consider moving this to an __init__ constructor? will it work?\\n',\n",
       " '        self.rs = RobotState()\\n',\n",
       " '        self.rs.agent_name = self.name\\n',\n",
       " '        self.rs.agent_id = self.player_id\\n',\n",
       " '        self.attack_fsm = StateMachine()\\n',\n",
       " '        self.mid_fsm = StateMachine()\\n',\n",
       " '        self.defend_fsm = StateMachine()\\n',\n",
       " '\\n',\n",
       " '        # setup agent roles\\n',\n",
       " '        if self.rs.agent_id == 3:\\n',\n",
       " '            self.rs.agent_role = utils.ROLE_ATTACK\\n',\n",
       " '        elif self.rs.agent_id == 2:\\n',\n",
       " '            self.rs.agent_role = utils.ROLE_MID\\n',\n",
       " '        elif self.rs.agent_id == 1:\\n',\n",
       " '            self.rs.agent_role = utils.ROLE_DEFEND\\n',\n",
       " '\\n',\n",
       " '        # setup state machines\\n',\n",
       " '        if self.rs.agent_role == utils.ROLE_ATTACK:\\n',\n",
       " '            self.attack_fsm.change_state(self.rs, states.StateAttackKickoff())\\n',\n",
       " '        elif self.rs.agent_role == utils.ROLE_MID:\\n',\n",
       " '            self.mid_fsm.change_state(self.rs, states.StateMidHover())\\n',\n",
       " '        elif self.rs.agent_role == utils.ROLE_DEFEND:\\n',\n",
       " '            self.defend_fsm.change_state(self.rs, states.StateDefendHover())\\n',\n",
       " '\\n',\n",
       " '        # configure IPC\\n',\n",
       " '        if utils.IPC_ENABLED:\\n',\n",
       " '            self.rs.ipc_port = utils.ipc_generate_port()\\n',\n",
       " \"            # in case of Omicron self-play, don't occupy the same port\\n\",\n",
       " '            if self.rs.agent_name[0].upper() == \"Y\":\\n',\n",
       " '                self.rs.ipc_port += 16\\n',\n",
       " '            print(f\"IPC port set to: {self.rs.ipc_port}\")\\n',\n",
       " '\\n',\n",
       " '            if self.player_id == 1:\\n',\n",
       " '                print(f\"Agent {self.player_id} acting as SERVER\")\\n',\n",
       " '                self.rs.ipc_server = ipc.IPCServer(self.rs.ipc_port, self.__junk_event_handler, self.rs.agent_id)\\n',\n",
       " '                self.rs.ipc_server.launch()\\n',\n",
       " '            else:\\n',\n",
       " '                print(f\"Agent {self.player_id} acting as CLIENT\")\\n',\n",
       " '                self.rs.ipc_client = ipc.IPCClient(self.rs.ipc_port, self.__junk_event_handler, self.rs.agent_id)\\n',\n",
       " \"                # don't establish connection yet (possible race condition), instead wait a bit (scroll down for details)\\n\",\n",
       " '        else:\\n',\n",
       " '            print(\"[IPC] [INFO] IPC is disabled, no inter-robot comms will be performed\")\\n',\n",
       " '\\n',\n",
       " '    def __junk_event_handler(self, msg):\\n',\n",
       " '        return\\n',\n",
       " '\\n',\n",
       " '    def run(self):\\n',\n",
       " '        while self.robot.step(TIME_STEP) != -1:\\n',\n",
       " '            if self.is_new_data():\\n',\n",
       " '                data = self.get_new_data()\\n',\n",
       " '\\n',\n",
       " '                # after a wait time has expired, connect to IPC\\n',\n",
       " '                # use the wait time to (hopefully) prevent a race condition\\n',\n",
       " '                delay_time = 256 + (64 * self.rs.agent_id)\\n',\n",
       " '                if (self.rs.ipc_client is not None and self.rs.ipc_client.status == ipc.IPCStatus.DISCONNECTED \\n',\n",
       " '                        and self.rs.simulation_time >= delay_time):\\n',\n",
       " '                    self.rs.ipc_client.connect()\\n',\n",
       " '\\n',\n",
       " '                # Update RobotState\\n',\n",
       " \"                # Why are these coordinates so messed, it's cartesian coordinates from the underside of the field???\\n\",\n",
       " \"                if self.name[0].upper() == 'B':\\n\",\n",
       " \"                    self.rs.agent_pos = [-data[self.name.upper()]['y'], -data[self.name.upper()]['x']]\\n\",\n",
       " \"                    self.rs.ball_pos = [-data['ball']['y'], -data['ball']['x']]\\n\",\n",
       " \"                    self.rs.agent_heading = (data[self.name.upper()]['orientation'] + math.pi) % (2*math.pi)\\n\",\n",
       " '                else:\\n',\n",
       " \"                    self.rs.agent_pos = [data[self.name.upper()]['y'], data[self.name.upper()]['x']]\\n\",\n",
       " \"                    self.rs.ball_pos = [data['ball']['y'], data['ball']['x']]\\n\",\n",
       " \"                    self.rs.agent_heading = data[self.name.upper()]['orientation']\\n\",\n",
       " '                # NOTE: according to my reading of the docs, on all our controllers, the synchronization field is set\\n',\n",
       " '                # to TRUE, which means that robot.step(TIME_STEP) always returns zero (not delta time), so I assume\\n',\n",
       " '                # that means it always elapses by that time (although I am not sure!)\\n',\n",
       " '                # docs ref: https://cyberbotics.com/doc/reference/robot#wb_robot_step\\n',\n",
       " '                self.rs.simulation_time += TIME_STEP\\n',\n",
       " '                # note that this will only be called if the initial position has not yet been set in the predictor\\n',\n",
       " '                self.rs.ball_predictor.set_initial_pos(self.rs.agent_pos)\\n',\n",
       " '\\n',\n",
       " '                # Update state machine\\n',\n",
       " '                if self.rs.agent_role == utils.ROLE_ATTACK:\\n',\n",
       " '                    self.attack_fsm.update(self.rs)\\n',\n",
       " '                elif self.rs.agent_role == utils.ROLE_MID:\\n',\n",
       " '                    self.mid_fsm.update(self.rs)\\n',\n",
       " '                elif self.rs.agent_role == utils.ROLE_DEFEND:\\n',\n",
       " '                    self.defend_fsm.update(self.rs)                \\n',\n",
       " '                else:\\n',\n",
       " '                    continue\\n',\n",
       " '                \\n',\n",
       " '                # Update IPC\\n',\n",
       " '                if self.rs.ipc_server is not None:\\n',\n",
       " '                    self.rs.ipc_server.transmit({\"message\": \"server to client\"})\\n',\n",
       " '                elif self.rs.ipc_client is not None:\\n',\n",
       " '                    self.rs.ipc_client.transmit({\"message\": \"client to server\"})\\n',\n",
       " '               \\n',\n",
       " '                # Update motors\\n',\n",
       " '                self.left_motor.setVelocity(-self.rs.out[0][1])\\n',\n",
       " '                self.right_motor.setVelocity(-self.rs.out[0][0])\\n',\n",
       " '\\n',\n",
       " 'omicron_agent = OmicronAgent()\\n',\n",
       " 'omicron_agent.setup()\\n',\n",
       " 'omicron_agent.run()\\n']"
      ]
     },
     "execution_count": 76,
     "metadata": {},
     "output_type": "execute_result"
    }
   ],
   "source": [
    "robot1_py_file = open('001/robot1/robot1.py', 'r')\n",
    "robot1_py_file.readlines()"
   ]
  },
  {
   "cell_type": "code",
   "execution_count": 84,
   "id": "practical-pricing",
   "metadata": {},
   "outputs": [
    {
     "data": {
      "text/plain": [
       "'test'"
      ]
     },
     "execution_count": 84,
     "metadata": {},
     "output_type": "execute_result"
    }
   ],
   "source": [
    "'test.py'[:-3]"
   ]
  },
  {
   "cell_type": "code",
   "execution_count": 200,
   "id": "sized-instruction",
   "metadata": {},
   "outputs": [
    {
     "data": {
      "text/plain": [
       "['            ', ' utils']"
      ]
     },
     "execution_count": 200,
     "metadata": {},
     "output_type": "execute_result"
    }
   ],
   "source": [
    "'            import utils'.split('import')"
   ]
  },
  {
   "cell_type": "code",
   "execution_count": 205,
   "id": "fabulous-boutique",
   "metadata": {},
   "outputs": [
    {
     "data": {
      "text/plain": [
       "'         import math, sys'"
      ]
     },
     "execution_count": 205,
     "metadata": {},
     "output_type": "execute_result"
    }
   ],
   "source": [
    "'import '.join(['         ', ', '.join(['math', 'sys'])])"
   ]
  },
  {
   "cell_type": "code",
   "execution_count": null,
   "id": "sunrise-hartford",
   "metadata": {},
   "outputs": [],
   "source": []
  }
 ],
 "metadata": {
  "kernelspec": {
   "display_name": "Python 3",
   "language": "python",
   "name": "python3"
  },
  "language_info": {
   "codemirror_mode": {
    "name": "ipython",
    "version": 3
   },
   "file_extension": ".py",
   "mimetype": "text/x-python",
   "name": "python",
   "nbconvert_exporter": "python",
   "pygments_lexer": "ipython3",
   "version": "3.9.1"
  }
 },
 "nbformat": 4,
 "nbformat_minor": 5
}
